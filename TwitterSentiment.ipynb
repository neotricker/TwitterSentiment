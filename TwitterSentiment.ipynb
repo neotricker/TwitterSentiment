{
 "cells": [
  {
   "cell_type": "code",
   "execution_count": 1,
   "metadata": {},
   "outputs": [],
   "source": [
    "# Wczytanie danych\n",
    "import pandas as pd\n",
    "\n",
    "df_test = pd.read_csv(\"test.csv\", sep=\",\", encoding=\"latin_1\")\n",
    "df = pd.read_csv(\"train.csv\", sep=\",\", encoding=\"latin_1\")\n",
    "\n",
    "#display(df_test)"
   ]
  },
  {
   "cell_type": "code",
   "execution_count": 2,
   "metadata": {},
   "outputs": [],
   "source": [
    "df_test.head()"
   ]
  },
  {
   "cell_type": "code",
   "execution_count": 3,
   "metadata": {},
   "outputs": [],
   "source": [
    "# Wybranie kolumn\n",
    "df = df[[\"Sentiment\",\"SentimentText\"]]\n",
    "df_test = df_test[[\"ItemID\",\"SentimentText\"]]\n",
    "\n",
    "df = df.rename(columns={\"SentimentText\": \"New\"})\n",
    "\n",
    "df.head()"
   ]
  },
  {
   "cell_type": "code",
   "execution_count": 4,
   "metadata": {},
   "outputs": [],
   "source": [
    "df_new = pd.concat([df_test, df], axis=1)\n",
    "df_new = df_new.drop(columns=[\"New\"])\n",
    "df_new.head()"
   ]
  },
  {
   "cell_type": "code",
   "execution_count": 5,
   "metadata": {},
   "outputs": [],
   "source": [
    "# Przygotowanie danych\n",
    "import re\n",
    "\n",
    "def norm1(row):\n",
    "    return re.sub(\"[-()\\\"#/@;:<>{}`+=~|.!?,]\",'',row[\"SentimentText\"])\n",
    "\n",
    "df_new[\"norm\"] = df_new.apply(norm1, axis=1)\n",
    "df_new = df_new.drop(\"SentimentText\", axis=1)\n",
    "#display(df_new)"
   ]
  },
  {
   "cell_type": "code",
   "execution_count": 6,
   "metadata": {},
   "outputs": [
    {
     "data": {
      "text/plain": [
       "(299989, 284637)"
      ]
     },
     "execution_count": 6,
     "metadata": {},
     "output_type": "execute_result"
    }
   ],
   "source": [
    "# Wektoryzacja\n",
    "from sklearn.feature_extraction.text import CountVectorizer\n",
    "\n",
    "cv = CountVectorizer(binary=True)\n",
    "norm = df_new[\"norm\"]\n",
    "cv.fit(norm)\n",
    "X = cv.transform(norm)\n",
    "\n",
    "X_1 = X[0:99988]\n",
    "y = df_new[['Sentiment']].iloc[0:99988]\n",
    "\n",
    "\n",
    "X.shape"
   ]
  },
  {
   "cell_type": "code",
   "execution_count": 7,
   "metadata": {},
   "outputs": [
    {
     "name": "stderr",
     "output_type": "stream",
     "text": [
      "Using TensorFlow backend.\n"
     ]
    }
   ],
   "source": [
    "# Wykorzystanie karty graficznej\n",
    "import os\n",
    "os.environ[\"CUDA_DEVICE_ORDER\"]=\"PCI_BUS_ID\"\n",
    "# The GPU id to use, usually either \"0\" or \"1\"\n",
    "os.environ[\"CUDA_VISIBLE_DEVICES\"]=\"0\" \n",
    "\n",
    "\n",
    "# Podział danych\n",
    "from keras.utils import to_categorical\n",
    "from sklearn.model_selection import train_test_split as tts\n",
    "\n",
    "X_train, X_test, y_train, y_test = tts(X_1, y)\n",
    "\n",
    "num_classes = 2\n",
    "\n",
    "y_train = to_categorical(y_train, num_classes)\n",
    "y_test = to_categorical(y_test, num_classes)"
   ]
  },
  {
   "cell_type": "code",
   "execution_count": 8,
   "metadata": {},
   "outputs": [
    {
     "name": "stdout",
     "output_type": "stream",
     "text": [
      "_________________________________________________________________\n",
      "Layer (type)                 Output Shape              Param #   \n",
      "=================================================================\n",
      "dense_1 (Dense)              (None, 100)               28463800  \n",
      "_________________________________________________________________\n",
      "dropout_1 (Dropout)          (None, 100)               0         \n",
      "_________________________________________________________________\n",
      "dense_2 (Dense)              (None, 100)               10100     \n",
      "_________________________________________________________________\n",
      "dropout_2 (Dropout)          (None, 100)               0         \n",
      "_________________________________________________________________\n",
      "dense_3 (Dense)              (None, 2)                 202       \n",
      "=================================================================\n",
      "Total params: 28,474,102\n",
      "Trainable params: 28,474,102\n",
      "Non-trainable params: 0\n",
      "_________________________________________________________________\n"
     ]
    }
   ],
   "source": [
    "# Tworzenie sieci neuronowej Keras\n",
    "from keras import models\n",
    "from keras.layers import Dense, Dropout\n",
    "\n",
    "model = models.Sequential()\n",
    "model.add(Dense(100, activation=\"relu\", input_shape=(284637,)))\n",
    "model.add(Dropout(0.6))\n",
    "model.add(Dense(100, activation=\"relu\"))\n",
    "model.add(Dropout(0.6))\n",
    "model.add(Dense(num_classes, activation=\"sigmoid\"))\n",
    "model.summary()"
   ]
  },
  {
   "cell_type": "code",
   "execution_count": 9,
   "metadata": {},
   "outputs": [],
   "source": [
    "# Kompilacja modelu\n",
    "model.compile(\n",
    "    optimizer = \"adam\",\n",
    "    loss = \"binary_crossentropy\",\n",
    "    metrics = [\"accuracy\"]\n",
    ")"
   ]
  },
  {
   "cell_type": "code",
   "execution_count": 10,
   "metadata": {},
   "outputs": [
    {
     "name": "stdout",
     "output_type": "stream",
     "text": [
      "Train on 74991 samples, validate on 24997 samples\n",
      "Epoch 1/2\n",
      "74991/74991 [==============================] - 298s 4ms/step - loss: 0.5649 - acc: 0.7029 - val_loss: 0.4837 - val_acc: 0.7697\n",
      "Epoch 2/2\n",
      "74991/74991 [==============================] - 297s 4ms/step - loss: 0.4175 - acc: 0.8150 - val_loss: 0.4796 - val_acc: 0.7741\n"
     ]
    }
   ],
   "source": [
    "# Trenowanie modelu\n",
    "results = model.fit(\n",
    "    X_train, y_train,\n",
    "    epochs = 2,\n",
    "    batch_size = 512,\n",
    "    validation_data = (X_test, y_test)\n",
    ")"
   ]
  },
  {
   "cell_type": "code",
   "execution_count": 11,
   "metadata": {},
   "outputs": [
    {
     "name": "stdout",
     "output_type": "stream",
     "text": [
      "Test loss:  0.4796434028504319\n",
      "Test accuracy:  0.7740928911493221\n"
     ]
    }
   ],
   "source": [
    "# Sprawdzenie skuteczności \n",
    "score = model.evaluate(X_test, y_test, verbose=0)\n",
    "print(\"Test loss: \", score[0])\n",
    "print(\"Test accuracy: \", score[1])"
   ]
  },
  {
   "cell_type": "code",
   "execution_count": 12,
   "metadata": {},
   "outputs": [],
   "source": [
    "# Predykcja danych testowych\n",
    "results1 = model.predict(X, batch_size=512, verbose=0, steps=None)"
   ]
  },
  {
   "cell_type": "code",
   "execution_count": 53,
   "metadata": {},
   "outputs": [
    {
     "data": {
      "text/plain": [
       "0        0\n",
       "1        0\n",
       "2        1\n",
       "3        0\n",
       "4        0\n",
       "5        0\n",
       "6        1\n",
       "7        0\n",
       "8        1\n",
       "9        1\n",
       "10       0\n",
       "11       1\n",
       "12       0\n",
       "13       0\n",
       "14       0\n",
       "15       0\n",
       "16       0\n",
       "17       1\n",
       "18       0\n",
       "19       0\n",
       "20       0\n",
       "21       0\n",
       "22       1\n",
       "23       0\n",
       "24       0\n",
       "25       0\n",
       "26       0\n",
       "27       0\n",
       "28       1\n",
       "29       0\n",
       "        ..\n",
       "99959    0\n",
       "99960    1\n",
       "99961    0\n",
       "99962    0\n",
       "99963    1\n",
       "99964    1\n",
       "99965    1\n",
       "99966    0\n",
       "99967    1\n",
       "99968    1\n",
       "99969    0\n",
       "99970    0\n",
       "99971    0\n",
       "99972    1\n",
       "99973    1\n",
       "99974    0\n",
       "99975    0\n",
       "99976    1\n",
       "99977    1\n",
       "99978    1\n",
       "99979    1\n",
       "99980    1\n",
       "99981    0\n",
       "99982    1\n",
       "99983    0\n",
       "99984    0\n",
       "99985    1\n",
       "99986    0\n",
       "99987    1\n",
       "99988    1\n",
       "Name: Sentiment, Length: 99989, dtype: int64"
      ]
     },
     "execution_count": 53,
     "metadata": {},
     "output_type": "execute_result"
    }
   ],
   "source": [
    "# Stworzenie tablicy do podmiany warości już znanych\n",
    "tablica = pd.read_csv(\"train.csv\", sep=\",\", encoding=\"latin_1\", header=0)\n",
    "y_tablica = tablica[\"Sentiment\"]\n",
    "#y_tablica"
   ]
  },
  {
   "cell_type": "code",
   "execution_count": 57,
   "metadata": {},
   "outputs": [],
   "source": [
    "# Przypisanie wyników do jedenj kolumny\n",
    "a = results1.shape\n",
    "\n",
    "predictions_cat = []\n",
    "for i in range(0, a[0]):\n",
    "    if results1[i, 0] < 0.5:\n",
    "        predictions_cat.append(1)\n",
    "    else:\n",
    "        predictions_cat.append(0)\n",
    "\n",
    "# Zastąpienie wartości znanych z pliku\n",
    "predictions_to_file = predictions_cat\n",
    "for i in range(0, 99989):\n",
    "    predictions_to_file[i] = y_tablica[i]\n",
    "\n",
    "\n",
    "file = 'wynik_2.csv'\n",
    "#results_to_file = pd.DataFrame({'ItemID':df_new['ItemID'], 'Sentiment':predictions_cat})\n",
    "results_to_file = pd.DataFrame({'ItemID':df_new['ItemID'], 'Sentiment':predictions_to_file})\n",
    "results_to_file.to_csv(file, index=False)"
   ]
  }
 ],
 "metadata": {
  "kernelspec": {
   "display_name": "Python 3",
   "language": "python",
   "name": "python3"
  },
  "language_info": {
   "codemirror_mode": {
    "name": "ipython",
    "version": 3
   },
   "file_extension": ".py",
   "mimetype": "text/x-python",
   "name": "python",
   "nbconvert_exporter": "python",
   "pygments_lexer": "ipython3",
   "version": "3.6.8"
  }
 },
 "nbformat": 4,
 "nbformat_minor": 2
}
